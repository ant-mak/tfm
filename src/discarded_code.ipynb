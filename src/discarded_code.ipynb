{
 "cells": [
  {
   "cell_type": "markdown",
   "metadata": {},
   "source": [
    "# Discarded"
   ]
  },
  {
   "cell_type": "code",
   "execution_count": null,
   "metadata": {},
   "outputs": [],
   "source": [
    "plot_size = 50"
   ]
  },
  {
   "cell_type": "code",
   "execution_count": null,
   "metadata": {},
   "outputs": [],
   "source": [
    "# Plotting functions\n",
    "def unnormalize(image, mean = np.array([0.5, 0.5, 0.5]), std=np.array([0.5, 0.5, 0.5])):\n",
    "    image = image.numpy().transpose((1, 2, 0))\n",
    "    image = std*image + mean\n",
    "    image = np.clip(image, 0, 1)\n",
    "    return image\n",
    "\n",
    "def plotout(images, plot_size):\n",
    "    fig = plt.figure(figsize=(12,6))\n",
    "    for idx in np.arange(plot_size):\n",
    "        ax = fig.add_subplot(5, plot_size/5, idx+1, xticks=[], yticks=[])\n",
    "        plot_ready = unnormalize(images[0][idx])\n",
    "        ax.imshow(plot_ready)"
   ]
  },
  {
   "cell_type": "code",
   "execution_count": null,
   "metadata": {},
   "outputs": [],
   "source": [
    "dataiter = iter(dataloader)\n",
    "images = dataiter.next()\n",
    "\n",
    "plotout(images, plot_size)"
   ]
  },
  {
   "cell_type": "markdown",
   "metadata": {},
   "source": [
    "___"
   ]
  },
  {
   "cell_type": "code",
   "execution_count": null,
   "metadata": {},
   "outputs": [],
   "source": [
    "# Report batch progress (tqdm vs manual reporting)\n",
    "if batch_no % 100 == 0:\n",
    "    print('[{:5d}/{:5d}][{:5d}/{:5d}]'.format(e+1, epochs, batch_no, len(dataloader)))"
   ]
  },
  {
   "cell_type": "markdown",
   "metadata": {},
   "source": [
    "___"
   ]
  },
  {
   "cell_type": "code",
   "execution_count": null,
   "metadata": {},
   "outputs": [],
   "source": [
    "# Specify the path to the model, the device and the model class\n",
    "model_path = '../models/trained_generator_19_7_9_13.pth' #example path\n",
    "device = torch.device('cuda:0' if torch.cuda.is_available() else 'cpu')\n",
    "model = Generator()\n",
    "print('Model will be loaded on device: {}'.format(device))"
   ]
  },
  {
   "cell_type": "code",
   "execution_count": null,
   "metadata": {},
   "outputs": [],
   "source": [
    "device_marker = model_path[10,12]\n",
    "if device == device_marker:\n",
    "    model.load_sate_dict(torch.load(model_path))\n",
    "else:\n",
    "    model.load_state_dict(torch.load(model_path, map_location=device))\n",
    "    \n",
    "model.to(device)\n",
    "model.eval()"
   ]
  },
  {
   "cell_type": "markdown",
   "metadata": {},
   "source": [
    "___"
   ]
  },
  {
   "cell_type": "code",
   "execution_count": null,
   "metadata": {},
   "outputs": [],
   "source": [
    "from os import listdir, remove\n",
    "from PIL import Image\n",
    "import warnings\n",
    "warnings.filterwarnings(\"error\")\n",
    "\n",
    "for filename in listdir('data/paintings/test'):\n",
    "    if filename.endswith('.jpg'):\n",
    "        try:\n",
    "            img = Image.open('data/paintings/test/'+filename) # open the image file\n",
    "            img.verify() # verify that it is, in fact an image\n",
    "        except:\n",
    "            print('Bad file:', filename) # print out the names of corrupt files\n",
    "            remove('data/paintings/test/'+filename)"
   ]
  }
 ],
 "metadata": {
  "kernelspec": {
   "display_name": "Python [conda env:pytorch] *",
   "language": "python",
   "name": "conda-env-pytorch-py"
  },
  "language_info": {
   "codemirror_mode": {
    "name": "ipython",
    "version": 3
   },
   "file_extension": ".py",
   "mimetype": "text/x-python",
   "name": "python",
   "nbconvert_exporter": "python",
   "pygments_lexer": "ipython3",
   "version": "3.6.8"
  }
 },
 "nbformat": 4,
 "nbformat_minor": 2
}
